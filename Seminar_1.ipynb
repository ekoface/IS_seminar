{
 "cells": [
  {
   "cell_type": "code",
   "execution_count": null,
   "metadata": {},
   "outputs": [],
   "source": []
  },
  {
   "cell_type": "markdown",
   "metadata": {},
   "source": [
    "<h1>Seminar 1: Optimizing Conference Paper </h1>\n",
    "Assignment Using Genetic Algorithms <div>\n",
    "Intelligent Systems <div>\n",
    "October 28,"
   ]
  },
  {
   "cell_type": "code",
   "execution_count": 2,
   "metadata": {},
   "outputs": [
    {
     "name": "stdout",
     "output_type": "stream",
     "text": [
      "Requirement already satisfied: pygad in c:\\users\\vid\\miniconda3\\envs\\ls_a01\\lib\\site-packages (3.3.1)\n",
      "Requirement already satisfied: cloudpickle in c:\\users\\vid\\miniconda3\\envs\\ls_a01\\lib\\site-packages (from pygad) (3.1.0)\n",
      "Requirement already satisfied: matplotlib in c:\\users\\vid\\miniconda3\\envs\\ls_a01\\lib\\site-packages (from pygad) (3.9.2)\n",
      "Requirement already satisfied: numpy in c:\\users\\vid\\miniconda3\\envs\\ls_a01\\lib\\site-packages (from pygad) (1.26.4)\n",
      "Requirement already satisfied: contourpy>=1.0.1 in c:\\users\\vid\\miniconda3\\envs\\ls_a01\\lib\\site-packages (from matplotlib->pygad) (1.2.0)\n",
      "Requirement already satisfied: cycler>=0.10 in c:\\users\\vid\\miniconda3\\envs\\ls_a01\\lib\\site-packages (from matplotlib->pygad) (0.11.0)\n",
      "Requirement already satisfied: fonttools>=4.22.0 in c:\\users\\vid\\miniconda3\\envs\\ls_a01\\lib\\site-packages (from matplotlib->pygad) (4.51.0)\n",
      "Requirement already satisfied: kiwisolver>=1.3.1 in c:\\users\\vid\\miniconda3\\envs\\ls_a01\\lib\\site-packages (from matplotlib->pygad) (1.4.4)\n",
      "Requirement already satisfied: packaging>=20.0 in c:\\users\\vid\\miniconda3\\envs\\ls_a01\\lib\\site-packages (from matplotlib->pygad) (24.1)\n",
      "Requirement already satisfied: pillow>=8 in c:\\users\\vid\\miniconda3\\envs\\ls_a01\\lib\\site-packages (from matplotlib->pygad) (10.4.0)\n",
      "Requirement already satisfied: pyparsing>=2.3.1 in c:\\users\\vid\\miniconda3\\envs\\ls_a01\\lib\\site-packages (from matplotlib->pygad) (3.1.2)\n",
      "Requirement already satisfied: python-dateutil>=2.7 in c:\\users\\vid\\miniconda3\\envs\\ls_a01\\lib\\site-packages (from matplotlib->pygad) (2.9.0)\n",
      "Requirement already satisfied: six>=1.5 in c:\\users\\vid\\miniconda3\\envs\\ls_a01\\lib\\site-packages (from python-dateutil>=2.7->matplotlib->pygad) (1.16.0)\n",
      "Note: you may need to restart the kernel to use updated packages.\n"
     ]
    }
   ],
   "source": [
    "import numpy as np\n",
    "%pip install pygad\n",
    "import pygad\n",
    "import random\n",
    "import json\n",
    "import itertools"
   ]
  },
  {
   "cell_type": "markdown",
   "metadata": {},
   "source": [
    "Data"
   ]
  },
  {
   "cell_type": "code",
   "execution_count": 3,
   "metadata": {},
   "outputs": [],
   "source": [
    "\n",
    "with open('datasets/easy_dataset_1.json', 'r') as file:\n",
    "    data = json.load(file)\n",
    "num_papers = data['num_papers']\n",
    "num_reviewers = data['num_reviewers']\n",
    "reviewer_capacity = data['reviewer_capacity']\n",
    "min_reviews_per_paper = data['min_reviews_per_paper']\n",
    "max_reviews_per_paper = data['max_reviews_per_paper']\n",
    "#print(num_papers, num_reviewers, reviewer_capacity, min_reviews_per_paper, max_reviews_per_paper)\n",
    "\n",
    "num_generations = 1000\n",
    "population_size = 500\n",
    "num_parents_mating = 5\n",
    "P = np.array(data['preferences'])\n",
    "F = np.array(data['friendships'])\n",
    "A = np.array(data['authorship'])"
   ]
  },
  {
   "cell_type": "markdown",
   "metadata": {},
   "source": [
    "<h3> Print functions </h3>"
   ]
  },
  {
   "cell_type": "code",
   "execution_count": null,
   "metadata": {},
   "outputs": [],
   "source": [
    "\n",
    "def print_solution(solution_matrix):\n",
    "    solution_matrix = solution_matrix.reshape((num_reviewers, num_papers))\n",
    "\n",
    "    header = \"Reviewers\\\\Papers||| \" + \" | \".join([f\"Paper {i+1}\" for i in range(num_papers)])\n",
    "    print(header)\n",
    "    print(\"-\" * len(header))\n",
    "\n",
    "    # Print each reviewer's assignments\n",
    "    for reviewer_idx in range(num_reviewers):\n",
    "        row = f\"Reviewer {reviewer_idx+1:<6} |||   \" + \"  |   \".join(f\"{value:<4}\" for value in solution_matrix[reviewer_idx])\n",
    "        print(row)\n"
   ]
  },
  {
   "cell_type": "markdown",
   "metadata": {},
   "source": [
    "<h2>Task 1 - Representation <h2>"
   ]
  },
  {
   "cell_type": "code",
   "execution_count": null,
   "metadata": {},
   "outputs": [],
   "source": [
    "\n",
    "def create_fitness_function(fitnes_penalty):\n",
    "    def fitness_func(ga_instance, solution, solution_idx):\n",
    "        preference_score = np.sum(solution * P.flatten())\n",
    "        #print(preference_score)\n",
    "\n",
    "        penalty = 0\n",
    "        penalty += np.sum(solution * A.flatten()) * fitnes_penalty[\"authorship\"]\n",
    "        #print(penalty)\n",
    "        \n",
    "        reshaped_sol = solution.reshape((num_reviewers, num_papers))\n",
    "        #print(reshaped_sol)\n",
    "\n",
    "        #penalty for exceeding reviewer capacity, not meeting min reviews per paper, exceeding max reviews per paper\n",
    "        per_reviewer = np.sum(reshaped_sol, axis=1)\n",
    "        per_paper = np.sum(reshaped_sol, axis=0)\n",
    "\n",
    "        penalty += (np.maximum(0, per_paper - max_reviews_per_paper) *fitnes_penalty[\"max_reviews\"]).sum()\n",
    "        penalty += (np.maximum(0, min_reviews_per_paper - per_paper) *fitnes_penalty[\"min_reviews\"]).sum() \n",
    "        penalty += (np.maximum(0, per_reviewer - reviewer_capacity) * fitnes_penalty[\"reviewer_capacity\"]).sum() \n",
    "        \n",
    "       \n",
    "        # how many papers have reviewers that are friends\n",
    "        co_review_matrix = np.dot(reshaped_sol, reshaped_sol.T)\n",
    "        friend_review_counts = F * co_review_matrix \n",
    "        penalty += np.sum(friend_review_counts) // 2 * fitnes_penalty[\"friends\"]\n",
    "        #print(penalty)\n",
    "\n",
    "        #how many friends reviewed papers that their friends authored\n",
    "        authored_papers_by_friends = np.dot(F, A)\n",
    "        penalty_matrix = reshaped_sol * authored_papers_by_friends\n",
    "        penalty += np.sum(penalty_matrix) * fitnes_penalty[\"friends\"]\n",
    "        #print(penalty)\n",
    "        #return  preference_score - penalty\n",
    "        return  preference_score - penalty\n",
    "    return fitness_func"
   ]
  }
 ],
 "metadata": {
  "kernelspec": {
   "display_name": "ls_a01",
   "language": "python",
   "name": "python3"
  },
  "language_info": {
   "codemirror_mode": {
    "name": "ipython",
    "version": 3
   },
   "file_extension": ".py",
   "mimetype": "text/x-python",
   "name": "python",
   "nbconvert_exporter": "python",
   "pygments_lexer": "ipython3",
   "version": "3.12.7"
  }
 },
 "nbformat": 4,
 "nbformat_minor": 2
}
